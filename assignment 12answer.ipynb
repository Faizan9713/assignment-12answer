{
 "cells": [
  {
   "cell_type": "code",
   "execution_count": null,
   "id": "2582feb4",
   "metadata": {},
   "outputs": [],
   "source": [
    "1. In what modes should the PdfFileReader() and PdfFileWriter() \n",
    "File objects will be opened?\n",
    "\n",
    "\n",
    "ans = For PdfFileReader() file objects should be opened in \n",
    "rb -> read binary mode, Whereas for\n",
    "PdfFileWriter() file objects should be opened in \n",
    "wb -> write binary mode."
   ]
  },
  {
   "cell_type": "code",
   "execution_count": null,
   "id": "5bfe0a01",
   "metadata": {},
   "outputs": [],
   "source": [
    "2. From a PdfFileReader object, how do you get a Page object for page 5?\n",
    "\n",
    "\n",
    "Ans: PdfFileReader class provides a method called getPage(page_no) \n",
    "to get a page object.\n",
    "Calling getPage(4) will return a Page object for \n",
    "page 5 since page 0 is the first page"
   ]
  },
  {
   "cell_type": "code",
   "execution_count": null,
   "id": "a6b66565",
   "metadata": {},
   "outputs": [],
   "source": [
    "3. What PdfFileReader variable stores the number of pages in the PDF document?\n",
    "\n",
    "\n",
    "Ans: getNumPages() method of PdfFileReader \n",
    "    class stores the no pages in a PDF document"
   ]
  },
  {
   "cell_type": "code",
   "execution_count": null,
   "id": "c82428c3",
   "metadata": {},
   "outputs": [],
   "source": [
    "4. If a PdfFileReader object’s PDF is encrypted with the password swordfish,\n",
    "what must you do before you can obtain Page objects from it?\n",
    "\n",
    "\n",
    "Ans: If a PdfFileReader object’s PDF is encrypted with the\n",
    " password swordfish and you're not aware of it.\n",
    "first read the Pdf using the PdfFileReader Class. PdfFileReader\n",
    "class provides a attribute called isEncrypted to check whether a pdf\n",
    "is encrypted or not. the method returns true if a pdf is encrypted and\n",
    "vice versa.\n",
    "if pdf is encrypted use the decrypt() method provided by PdfFileReader \n",
    "class first then try to read the contents/pages of the pdf,\n",
    "else PyPDF2 will raise the following error PyPDF2.utils.PdfReadError: file has not been decrypted"
   ]
  },
  {
   "cell_type": "code",
   "execution_count": null,
   "id": "0c35f773",
   "metadata": {},
   "outputs": [],
   "source": [
    "5. What methods do you use to rotate a page?\n",
    "\n",
    "\n",
    "Ans: PyPDF2 Package provides 2 methods to rotate a page:\n",
    "rotateClockWise() -> For Clockwise rotation\n",
    "rotateCounterClockWise() -> For Counter Clockwise rotation\n",
    "The PyPDF2 package only allows you to rotate a page in increments of 90 degrees.\n",
    "You will receive an AssertionError otherwise."
   ]
  },
  {
   "cell_type": "code",
   "execution_count": null,
   "id": "767f91f0",
   "metadata": {},
   "outputs": [],
   "source": [
    "6. What is the difference between a Run object and a Paragraph object?\n",
    "\n",
    "Ans: The structure of a document is represented by three different\n",
    "    data types in python-Docx. At the highest level,\n",
    "    a Document object represents the entire document. \n",
    "    The Document object contains a list of Paragraph objects for\n",
    "    the paragraphs in the document.\n",
    "    (A new paragraph begins whenever the user presses ENTER or RETURN while typing in a Word document.) \n",
    "    Each of these Paragraph objects contains a list of one or more Run objects."
   ]
  },
  {
   "cell_type": "code",
   "execution_count": null,
   "id": "299f439e",
   "metadata": {},
   "outputs": [],
   "source": [
    "7. How do you obtain a list of Paragraph objects for\n",
    "a Document object that’s stored in a variable\n",
    "named doc?\n",
    "\n",
    "ans  = from docx import Document\n",
    "doc = Document(\"sample_file.docx\") \n",
    "print(doc.paragraphs) \n",
    "for paragraph in doc.paragraphs:\n",
    "    print(paragraph.text)"
   ]
  },
  {
   "cell_type": "code",
   "execution_count": null,
   "id": "79b8dd22",
   "metadata": {},
   "outputs": [],
   "source": [
    "8. What type of object has bold, underline, italic, strike, \n",
    "and outline variables?\n",
    "\n",
    "ans  = Ans: Run object has bold, underline, italic, strike, and outline variables. The text in a Word document is more than just a string. It has font, size, color, and other styling information associated with it.\n",
    "\n",
    "A style in Word is a collection of these attributes. A Run object is a contiguous run of text with the same style. A new Run object is needed whenever the text style changes."
   ]
  },
  {
   "cell_type": "code",
   "execution_count": null,
   "id": "3d93eeb1",
   "metadata": {},
   "outputs": [],
   "source": [
    "9. What is the difference between False, True, and None for the bold variable?\n",
    "\n",
    "\n",
    "ans = bold = True  # Style Set to Bold\n",
    "bold = False # Style Not Set to Bold\n",
    "bold = None # Style is Not Applicable\n"
   ]
  },
  {
   "cell_type": "code",
   "execution_count": null,
   "id": "79c93ac0",
   "metadata": {},
   "outputs": [],
   "source": [
    "10. How do you create a Document object for a new Word document?\n",
    "ans  = \n",
    "\n",
    "from docx import Document\n",
    "document = Document()\n",
    "document.add_paragraph(\"Learn python programming\")\n",
    "document.save('mydocument.docx')"
   ]
  },
  {
   "cell_type": "code",
   "execution_count": null,
   "id": "93e4cf36",
   "metadata": {},
   "outputs": [],
   "source": [
    "11. How do you add a paragraph with the text 'Hello, there!' to a Document object stored in a variable named doc?\n",
    "\n",
    "ans  = \n",
    "\n",
    "from docx import Document\n",
    "doc = Document()\n",
    "doc.add_paragraph('Hello, there!')\n",
    "doc.save('hello.docx')"
   ]
  },
  {
   "cell_type": "code",
   "execution_count": null,
   "id": "9ae67c4c",
   "metadata": {},
   "outputs": [],
   "source": [
    "12. What integers represent the levels of headings available in Word documents?\n",
    "\n",
    "\n",
    "Ans: The levels for a heading in a word document can be specified by\n",
    "    using the level attribute inside the add_heading method.\n",
    "    There are a total of 5 levels statring for 0 t0 4.\n",
    "    where level 0 makes a headline with the horizontal line below \n",
    "    the text, whereas the heading level 1 is the main heading. \n",
    "    Similarly, the other headings are sub-heading with \n",
    "    their's font-sizes in decreasing order."
   ]
  },
  {
   "cell_type": "code",
   "execution_count": null,
   "id": "a695b12e",
   "metadata": {},
   "outputs": [],
   "source": []
  }
 ],
 "metadata": {
  "kernelspec": {
   "display_name": "Python 3 (ipykernel)",
   "language": "python",
   "name": "python3"
  },
  "language_info": {
   "codemirror_mode": {
    "name": "ipython",
    "version": 3
   },
   "file_extension": ".py",
   "mimetype": "text/x-python",
   "name": "python",
   "nbconvert_exporter": "python",
   "pygments_lexer": "ipython3",
   "version": "3.9.12"
  }
 },
 "nbformat": 4,
 "nbformat_minor": 5
}
